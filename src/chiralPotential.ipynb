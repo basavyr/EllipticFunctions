{
 "cells": [
  {
   "cell_type": "markdown",
   "metadata": {},
   "source": [
    "# Elliptic potential for the triaxial nucleus $^{163}$Lu"
   ]
  },
  {
   "cell_type": "markdown",
   "metadata": {},
   "source": [
    "# The chiral potential $V_\\text{chiral}$"
   ]
  },
  {
   "cell_type": "markdown",
   "metadata": {},
   "source": [
    "## Author: Robert Poenaru"
   ]
  },
  {
   "cell_type": "markdown",
   "metadata": {},
   "source": [
    "e-mail: <robert.poenaru@drd.unibuc.ro>\n",
    "\n",
    "This project is calculating the triaxial potential for the odd-$A$ nucleus $^{163}$Pr. "
   ]
  },
  {
   "cell_type": "markdown",
   "metadata": {},
   "source": [
    "> Code"
   ]
  },
  {
   "cell_type": "markdown",
   "metadata": {},
   "source": [
    "### Import modules"
   ]
  },
  {
   "cell_type": "code",
   "execution_count": 87,
   "metadata": {},
   "outputs": [],
   "source": [
    "import numpy as np\n",
    "from matplotlib import pyplot as plt\n",
    "from scipy import special as sp\n",
    "from matplotlib import rc\n",
    "import tikzplotlib"
   ]
  },
  {
   "cell_type": "markdown",
   "metadata": {},
   "source": [
    "### Define the single-particle angular momentum components\n",
    "$$\\mathbf{j}=\\left\\{j_1,j_2,j_3\\right\\}$$\n",
    "with \n",
    "$$j_1=j\\cos\\theta$$\n",
    "and \n",
    "$$j_2=j\\sin\\theta$$"
   ]
  },
  {
   "cell_type": "code",
   "execution_count": 88,
   "metadata": {},
   "outputs": [],
   "source": [
    "def j1(j,theta):\n",
    "    degrees=theta*np.pi/180.0\n",
    "    return j*np.cos(degrees)\n",
    "def j2(j,theta):\n",
    "    degrees=theta*np.pi/180.0\n",
    "    return j*np.sin(degrees)"
   ]
  },
  {
   "cell_type": "markdown",
   "metadata": {},
   "source": [
    "### Define the elliptic variables $A,u,v_0,k$"
   ]
  },
  {
   "cell_type": "code",
   "execution_count": 89,
   "metadata": {},
   "outputs": [],
   "source": [
    "def aFct(spin,j,theta,a1,a2):\n",
    "    term1=1-j2(j,theta)/spin\n",
    "    term2=a2*term1-a1\n",
    "    return term2\n",
    "\n",
    "def uFct(spin,j,theta,a1,a2,a3):\n",
    "    term1=a3-a1\n",
    "    term2=aFct(spin,j,theta,a1,a2)\n",
    "    return term1/term2\n",
    "\n",
    "def v0Fct(spin,j,theta,a1,a2,a3):\n",
    "    term1=a1*j1(j,theta)\n",
    "    return -term1/aFct(spin,j,theta,a1,a2)\n",
    "\n",
    "def kFct(spin,j,theta,a1,a2,a3):\n",
    "    term=uFct(spin,j,theta,a1,a2,a3)\n",
    "    return np.sqrt(term)"
   ]
  },
  {
   "cell_type": "markdown",
   "metadata": {},
   "source": [
    "# THE JACOBI AMPLITUDE CALCULUS"
   ]
  },
  {
   "cell_type": "markdown",
   "metadata": {},
   "source": [
    "## Define the linear $k$ argument which enters in the elliptic function"
   ]
  },
  {
   "cell_type": "code",
   "execution_count": 90,
   "metadata": {},
   "outputs": [],
   "source": [
    "def fiVar(u,k):\n",
    "    return sp.ellipj(u,k)"
   ]
  },
  {
   "cell_type": "markdown",
   "metadata": {},
   "source": [
    "## Define the quadratic $k$ argument which enters in the elliptic function"
   ]
  },
  {
   "cell_type": "code",
   "execution_count": 91,
   "metadata": {},
   "outputs": [],
   "source": [
    "def fiVar_sq(u,k):\n",
    "    ksq=np.power(k,2)\n",
    "    return sp.ellipj(u,ksq)"
   ]
  },
  {
   "cell_type": "markdown",
   "metadata": {},
   "source": [
    "## Test the elliptic variables"
   ]
  },
  {
   "cell_type": "code",
   "execution_count": 92,
   "metadata": {},
   "outputs": [
    {
     "name": "stdout",
     "output_type": "stream",
     "text": [
      "0.0 (0.0, 0.0)\n",
      "1.0 (0.9323150798838539, 0.9660310526366139)\n",
      "2.0 (1.6741639220482394, 1.8440491178856986)\n",
      "3.0 (2.4600021012296027, 2.7721668994372144)\n",
      "4.0 (3.431410753482452, 3.7605670271403726)\n",
      "5.0 (4.304620857222439, 4.6628013359701725)\n",
      "6.0 (5.026814633689735, 5.555423639554034)\n",
      "7.0 (5.872672281436279, 6.539486453212575)\n",
      "8.0 (6.851503073148641, 7.4798994265728345)\n"
     ]
    }
   ],
   "source": [
    "def printer(u,k):\n",
    "    ksquared=np.power(k,2)\n",
    "    fipair=(fiVar(u,k)[3],fiVar(u,ksquared)[3])\n",
    "    return fipair\n",
    "\n",
    "qArray=[]\n",
    "kArray=[]\n",
    "ksqArray=[]\n",
    "for i in np.arange(0,9,1.0):\n",
    "    print(i,printer(i,0.5))\n",
    "    qArray.append(i)\n",
    "    kArray.append(printer(i,0.5)[0])\n",
    "    ksqArray.append(printer(i,0.5)[1])"
   ]
  },
  {
   "cell_type": "code",
   "execution_count": 93,
   "metadata": {},
   "outputs": [
    {
     "data": {
      "image/png": "[encoded data removed]",
      "text/plain": [
       "<Figure size 432x288 with 1 Axes>"
      ]
     },
     "metadata": {
      "needs_background": "light"
     },
     "output_type": "display_data"
    }
   ],
   "source": [
    "# plt.rcParams[\"font.family\"] = \"Times New Roman\"\n",
    "plt.rcParams.update({'font.size': 18})\n",
    "## for Palatino and other serif fonts use:\n",
    "plt.rc('font',**{'family':'serif','serif':['Times New Roman']})\n",
    "rc('text', usetex=True)\n",
    "plt.rc('xtick', labelsize=18) \n",
    "plt.rc('ytick', labelsize=18)\n",
    "fig, ax=plt.subplots()\n",
    "ax.plot(qArray,kArray,'r-',label='$\\\\varphi=JAmp(q,k)$')\n",
    "ax.plot(qArray,ksqArray,'b-',label='$\\\\varphi=JAmp(q,k^2)$')\n",
    "plt.xlabel('$q$')\n",
    "plt.ylabel('$\\\\varphi$')\n",
    "ax.text(0.2, 0.5, '$k=0.5$', horizontalalignment='center',verticalalignment='center', transform=ax.transAxes,fontsize=14)\n",
    "plt.legend(loc='best')\n",
    "plt.savefig('jacobiAmpl.pdf',bbox_inches='tight')\n",
    "plt.show()"
   ]
  },
  {
   "cell_type": "code",
   "execution_count": 94,
   "metadata": {},
   "outputs": [
    {
     "name": "stdout",
     "output_type": "stream",
     "text": [
      "(0.0, 0.0)\n",
      "(0.8915386362062283, 0.9124321203112075)\n",
      "(1.45080089258313, 1.5674613496127106)\n",
      "(1.9163501357976978, 2.220508522901667)\n",
      "(2.622629327497944, 3.130344007288082)\n",
      "(3.59047820203022, 4.045333057637743)\n",
      "(4.324712038259995, 4.7023837752157505)\n",
      "(4.797606381658718, 5.353488687660488)\n",
      "(5.337582832500058, 6.260688937376585)\n"
     ]
    }
   ],
   "source": [
    "qArray=[]\n",
    "kArray=[]\n",
    "ksqArray=[]\n",
    "for i in np.arange(0,9,1.0):\n",
    "    myk=kFct(45/2,13/2,210,1/(2*20),1/(2*100),1/(2*40))\n",
    "    result=printer(i,myk)\n",
    "    qArray.append(i)\n",
    "    kArray.append(result[0])\n",
    "    ksqArray.append(result[1])\n",
    "    print(result)"
   ]
  },
  {
   "cell_type": "code",
   "execution_count": 95,
   "metadata": {},
   "outputs": [
    {
     "data": {
      "image/png": "[encoded data removed]",
      "text/plain": [
       "<Figure size 432x288 with 1 Axes>"
      ]
     },
     "metadata": {
      "needs_background": "light"
     },
     "output_type": "display_data"
    }
   ],
   "source": [
    "# plt.rcParams[\"font.family\"] = \"Times New Roman\"\n",
    "plt.rcParams.update({'font.size': 18})\n",
    "## for Palatino and other serif fonts use:\n",
    "plt.rc('font',**{'family':'serif','serif':['Times New Roman']})\n",
    "rc('text', usetex=True)\n",
    "plt.rc('xtick', labelsize=18) \n",
    "plt.rc('ytick', labelsize=18)\n",
    "fig, ax=plt.subplots()\n",
    "ax.plot(qArray,kArray,'r-',label='$\\\\varphi=JAmp(q,k)$')\n",
    "ax.plot(qArray,ksqArray,'b-',label='$\\\\varphi=JAmp(q,k^2)$')\n",
    "plt.xlabel('$q$')\n",
    "plt.ylabel('$\\\\varphi$')\n",
    "ax.text(0.2, 0.5, '$k=0.80524$', horizontalalignment='center',verticalalignment='center', transform=ax.transAxes,fontsize=14)\n",
    "plt.legend(loc='best')\n",
    "plt.savefig('jacobiAmpl_customk.pdf',bbox_inches='tight')\n",
    "plt.show()"
   ]
  },
  {
   "cell_type": "markdown",
   "metadata": {},
   "source": [
    "## Generate the elliptic coordinates $s,c,d$"
   ]
  },
  {
   "cell_type": "code",
   "execution_count": 96,
   "metadata": {},
   "outputs": [],
   "source": [
    "def ellipticArg(q,spin,theta,paramSet):\n",
    "    #paramSet is a tuple of the form (SPIN,j,A1,A2,A3)\n",
    "    #spin=paramSet[0]\n",
    "    oddSpin=paramSet[1]\n",
    "    a1=paramSet[2]\n",
    "    a2=paramSet[3]\n",
    "    a3=paramSet[4]\n",
    "    currentK=kFct(spin,oddSpin,theta,a1,a2,a3)\n",
    "    #work with linear k\n",
    "    fi=fiVar(q,currentK)\n",
    "    #work with quadratic k\n",
    "    fi2=fiVar_sq(q,currentK)\n",
    "    resultTuple=(fi,fi2)\n",
    "    return resultTuple[1]\n",
    "    \n",
    "def sVar(q,spin,theta,paramSet):\n",
    "    fi=ellipticArg(q,spin,theta,paramSet)\n",
    "    return fi[0]\n",
    "\n",
    "def cVar(q,spin,theta,paramSet):\n",
    "    fi=ellipticArg(q,spin,theta,paramSet)\n",
    "    return fi[1]\n",
    "\n",
    "def dVar(q,spin,theta,paramSet):\n",
    "    fi=ellipticArg(q,spin,theta,paramSet)\n",
    "    return fi[2]"
   ]
  },
  {
   "cell_type": "markdown",
   "metadata": {},
   "source": [
    "## Defining the parameter set  - according to DRAFT\n",
    "\n",
    "> `pSet`=$\\left\\{I,j,A_1,A_2,A_3\\right\\}$"
   ]
  },
  {
   "cell_type": "code",
   "execution_count": 97,
   "metadata": {},
   "outputs": [
    {
     "name": "stdout",
     "output_type": "stream",
     "text": [
      "[22.5, 6.5, 0.025, 0.005, 0.0125]\n"
     ]
    }
   ],
   "source": [
    "pSet=[45/2,13/2,1/(2*20),1/(2*100),1/(2*40)]\n",
    "print(pSet)"
   ]
  },
  {
   "cell_type": "markdown",
   "metadata": {},
   "source": [
    "# Defining the triaxial rotor potential $V_\\theta(q)$"
   ]
  },
  {
   "cell_type": "code",
   "execution_count": 98,
   "metadata": {},
   "outputs": [],
   "source": [
    "def rotorPotential(q,spin,theta,paramSet):\n",
    "    #paramSet is a tuple of the form (SPIN,j,A1,A2,A3)\n",
    "    #spin=paramSet[0]\n",
    "    oddSpin=paramSet[1]\n",
    "    a1=paramSet[2]\n",
    "    a2=paramSet[3]\n",
    "    a3=paramSet[4]\n",
    "    v0=v0Fct(spin,oddSpin,theta,a1,a2,a3)\n",
    "    k=kFct(spin,oddSpin,theta,a1,a2,a3)\n",
    "    s=sVar(q,spin,theta,paramSet)\n",
    "    c=cVar(q,spin,theta,paramSet)\n",
    "    d=dVar(q,spin,theta,paramSet)\n",
    "    #define the potential sub-terms\n",
    "    t1=spin*(spin+1.0)*np.power(k,2)+np.power(v0,2)\n",
    "    t2=(2.0*spin+1.0)*v0*c*d\n",
    "    t3=t1*np.power(s,2)\n",
    "    vRotor=t3+t2\n",
    "    return vRotor"
   ]
  },
  {
   "cell_type": "markdown",
   "metadata": {},
   "source": [
    "## Rotor potential - graphical representation "
   ]
  },
  {
   "cell_type": "code",
   "execution_count": 99,
   "metadata": {},
   "outputs": [],
   "source": [
    "qTable=[]\n",
    "vTable=[]\n",
    "for i in np.arange(-8,8,0.1):\n",
    "    qTable.append(i)\n",
    "    vTable.append(rotorPotential(i,45/2,30,pSet))"
   ]
  },
  {
   "cell_type": "code",
   "execution_count": 100,
   "metadata": {},
   "outputs": [
    {
     "data": {
      "text/plain": [
       "[<matplotlib.lines.Line2D at 0x133ddfad0>]"
      ]
     },
     "execution_count": 100,
     "metadata": {},
     "output_type": "execute_result"
    },
    {
     "data": {
      "image/png": "[encoded data removed]",
      "text/plain": [
       "<Figure size 432x288 with 1 Axes>"
      ]
     },
     "metadata": {
      "needs_background": "light"
     },
     "output_type": "display_data"
    }
   ],
   "source": [
    "plt.plot(qTable,vTable,'r-')"
   ]
  },
  {
   "cell_type": "markdown",
   "metadata": {},
   "source": [
    "# The chiral potential definition\n",
    "\n",
    "$V_\\text{chiral}=\\left\\{V_\\text{s},V_\\text{a}\\right\\}$\n",
    "\n",
    "$V_s\\to$ **symmetric potential** $V_\\text{symmetric}=\\frac{V_{\\theta_1}+V_{\\theta_2}}{2}$\n",
    "\n",
    "$V_a\\to$ **anti-symmetric potential** $V_\\text{antisymmetric}=\\frac{V_{\\theta_1}-V_{\\theta_2}}{2}$\n",
    "\n",
    "## The potentials $V_\\theta$ depend on the set of angles {$\\theta_1$,$\\theta_2$}\n",
    "> in this case $\\theta_1=30^o$ and $\\theta_2=210^o$"
   ]
  },
  {
   "cell_type": "code",
   "execution_count": 101,
   "metadata": {},
   "outputs": [],
   "source": [
    "def chiralPotential(q,spin,theta1,theta2,paramSet):\n",
    "    potential1=rotorPotential(q,spin,theta1,paramSet)\n",
    "    potential2=rotorPotential(q,spin,theta2,paramSet)\n",
    "    #the symmetric potential\n",
    "    symmetricTerm=0.5*(potential1+potential2)\n",
    "    antiTerm=0.5*(potential1-potential2)\n",
    "    chiralTuple=(symmetricTerm, antiTerm)\n",
    "    return chiralTuple\n",
    "\n",
    "def vSym(q,spin,theta1,theta2,paramSet):\n",
    "    return chiralPotential(q,spin,theta1,theta2,paramSet)[0]\n",
    "\n",
    "def vAsym(q,spin,theta1,theta2,paramSet):\n",
    "    return chiralPotential(q,spin,theta1,theta2,paramSet)[1]"
   ]
  },
  {
   "cell_type": "code",
   "execution_count": 102,
   "metadata": {},
   "outputs": [],
   "source": [
    "vaTable=[]\n",
    "vsTable=[]\n",
    "for i in qTable:\n",
    "    myspin=45/2\n",
    "    theta1=30\n",
    "    theta2=210\n",
    "    vaTable.append(vAsym(i,myspin,theta1,theta2,pSet))\n",
    "    vsTable.append(vSym(i,myspin,theta1,theta2,pSet))"
   ]
  },
  {
   "cell_type": "markdown",
   "metadata": {},
   "source": [
    "## Calculus for the anti-symmetric potential"
   ]
  },
  {
   "cell_type": "code",
   "execution_count": 103,
   "metadata": {},
   "outputs": [
    {
     "data": {
      "image/png": "[encoded data removed]",
      "text/plain": [
       "<Figure size 432x288 with 1 Axes>"
      ]
     },
     "metadata": {
      "needs_background": "light"
     },
     "output_type": "display_data"
    }
   ],
   "source": [
    "fig, ax=plt.subplots()\n",
    "ax.plot(qTable,vaTable,'r-')\n",
    "#plt.title('The antisymmetric potential $V_a(q)$')\n",
    "plt.xlabel('$q\\ \\  [rad]$')\n",
    "plt.ylabel('$V_a\\ \\  [\\hbar^2]$')\n",
    "ax.text(0.25, 0.8, '$I=45/2$', horizontalalignment='center',verticalalignment='center', transform=ax.transAxes,fontsize=14)\n",
    "ax.set_xticks([-8,-6,-4,-2,0,2,4,6,8])\n",
    "ax.set_yticks([-300,-200,-100,0,100,200,300])\n",
    "plt.savefig('antiSymmetricPotential.pdf',bbox_inches='tight')\n",
    "plt.show()"
   ]
  },
  {
   "cell_type": "markdown",
   "metadata": {},
   "source": [
    "## Calculus for the symmetric potential"
   ]
  },
  {
   "cell_type": "code",
   "execution_count": 104,
   "metadata": {},
   "outputs": [
    {
     "data": {
      "image/png": "[encoded data removed]",
      "text/plain": [
       "<Figure size 432x288 with 1 Axes>"
      ]
     },
     "metadata": {
      "needs_background": "light"
     },
     "output_type": "display_data"
    }
   ],
   "source": [
    "fig, ax=plt.subplots()\n",
    "ax.plot(qTable,vsTable,'b-')\n",
    "#plt.title('The symmetric potential $V_s(q)$')\n",
    "plt.xlabel('$q\\ \\  [rad]$')\n",
    "plt.ylabel('$V_s\\ \\  [\\hbar^2]$')\n",
    "ax.text(0.16, 0.2, '$I=45/2$', horizontalalignment='center',verticalalignment='center', transform=ax.transAxes,fontsize=14)\n",
    "ax.set_xticks([-8,-6,-4,-2,0,2,4,6,8])\n",
    "ax.set_yticks([0,100,200,300,400])\n",
    "plt.savefig('symetricPotential.pdf',bbox_inches='tight')\n",
    "# plt.show()\n",
    "tikzplotlib.save(\"test.tex\")"
   ]
  },
  {
   "cell_type": "code",
   "execution_count": null,
   "metadata": {},
   "outputs": [],
   "source": []
  }
 ],
 "metadata": {
  "kernelspec": {
   "display_name": "Python 3.7.6 64-bit",
   "language": "python",
   "name": "python37664bitca4067d99ba64e6e9495a04a073a50f6"
  },
  "language_info": {
   "codemirror_mode": {
    "name": "ipython",
    "version": 3
   },
   "file_extension": ".py",
   "mimetype": "text/x-python",
   "name": "python",
   "nbconvert_exporter": "python",
   "pygments_lexer": "ipython3",
   "version": "3.7.7"
  }
 },
 "nbformat": 4,
 "nbformat_minor": 4
}
