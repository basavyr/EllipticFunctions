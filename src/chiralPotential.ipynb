{
 "cells": [
  {
   "cell_type": "markdown",
   "metadata": {},
   "source": [
    "# Elliptic potential for the triaxial nucleus $^{163}$Lu"
   ]
  },
  {
   "cell_type": "markdown",
   "metadata": {},
   "source": [
    "# The chiral potential $V_\\text{chiral}$"
   ]
  },
  {
   "cell_type": "markdown",
   "metadata": {},
   "source": [
    "## Author: Robert Poenaru"
   ]
  },
  {
   "cell_type": "markdown",
   "metadata": {},
   "source": [
    "e-mail: <robert.poenaru@drd.unibuc.ro>\n",
    "\n",
    "This project is calculating the triaxial potential for the odd-$A$ nucleus $^{163}$Pr. "
   ]
  },
  {
   "cell_type": "markdown",
   "metadata": {},
   "source": [
    "> Code"
   ]
  },
  {
   "cell_type": "markdown",
   "metadata": {},
   "source": [
    "### Import modules"
   ]
  },
  {
   "cell_type": "code",
   "execution_count": 1,
   "metadata": {},
   "outputs": [],
   "source": [
    "import numpy as np\n",
    "from matplotlib import pyplot as plt\n",
    "from scipy import special as sp\n",
    "from matplotlib import rc\n",
    "import tikzplotlib"
   ]
  },
  {
   "cell_type": "markdown",
   "metadata": {},
   "source": [
    "### Define the single-particle angular momentum components\n",
    "$$\\mathbf{j}=\\left\\{j_1,j_2,j_3\\right\\}$$\n",
    "with \n",
    "$$j_1=j\\cos\\theta$$\n",
    "and \n",
    "$$j_2=j\\sin\\theta$$"
   ]
  },
  {
   "cell_type": "code",
   "execution_count": 2,
   "metadata": {},
   "outputs": [],
   "source": [
    "def j1(j,theta):\n",
    "    degrees=theta*np.pi/180.0\n",
    "    return j*np.cos(degrees)\n",
    "def j2(j,theta):\n",
    "    degrees=theta*np.pi/180.0\n",
    "    return j*np.sin(degrees)"
   ]
  },
  {
   "cell_type": "markdown",
   "metadata": {},
   "source": [
    "### Define the elliptic variables $A,u,v_0,k$"
   ]
  },
  {
   "cell_type": "code",
   "execution_count": 3,
   "metadata": {},
   "outputs": [],
   "source": [
    "def aFct(spin,j,theta,a1,a2):\n",
    "    term1=1-j2(j,theta)/spin\n",
    "    term2=a2*term1-a1\n",
    "    return term2\n",
    "\n",
    "def uFct(spin,j,theta,a1,a2,a3):\n",
    "    term1=a3-a1\n",
    "    term2=aFct(spin,j,theta,a1,a2)\n",
    "    return term1/term2\n",
    "\n",
    "def v0Fct(spin,j,theta,a1,a2,a3):\n",
    "    term1=a1*j1(j,theta)\n",
    "    return -term1/aFct(spin,j,theta,a1,a2)\n",
    "\n",
    "def kFct(spin,j,theta,a1,a2,a3):\n",
    "    term=uFct(spin,j,theta,a1,a2,a3)\n",
    "    return np.sqrt(term)"
   ]
  },
  {
   "cell_type": "markdown",
   "metadata": {},
   "source": [
    "# THE JACOBI AMPLITUDE CALCULUS"
   ]
  },
  {
   "cell_type": "markdown",
   "metadata": {},
   "source": [
    "## Define the linear $k$ argument which enters in the elliptic function"
   ]
  },
  {
   "cell_type": "code",
   "execution_count": 4,
   "metadata": {},
   "outputs": [],
   "source": [
    "def fiVar(u,k):\n",
    "    return sp.ellipj(u,k)"
   ]
  },
  {
   "cell_type": "markdown",
   "metadata": {},
   "source": [
    "## Define the quadratic $k$ argument which enters in the elliptic function"
   ]
  },
  {
   "cell_type": "code",
   "execution_count": 5,
   "metadata": {},
   "outputs": [],
   "source": [
    "def fiVar_sq(u,k):\n",
    "    ksq=np.power(k,2)\n",
    "    return sp.ellipj(u,ksq)"
   ]
  },
  {
   "cell_type": "markdown",
   "metadata": {},
   "source": [
    "## Test the elliptic variables"
   ]
  },
  {
   "cell_type": "code",
   "execution_count": 6,
   "metadata": {},
   "outputs": [
    {
     "name": "stdout",
     "output_type": "stream",
     "text": [
      "0.0 (0.0, 0.0)\n",
      "1.0 (0.9323150798838539, 0.9660310526366139)\n",
      "2.0 (1.6741639220482394, 1.8440491178856986)\n",
      "3.0 (2.4600021012296027, 2.7721668994372144)\n",
      "4.0 (3.431410753482452, 3.7605670271403726)\n",
      "5.0 (4.304620857222439, 4.6628013359701725)\n",
      "6.0 (5.026814633689735, 5.555423639554034)\n",
      "7.0 (5.872672281436279, 6.539486453212575)\n",
      "8.0 (6.851503073148641, 7.4798994265728345)\n"
     ]
    }
   ],
   "source": [
    "def printer(u,k):\n",
    "    ksquared=np.power(k,2)\n",
    "    fipair=(fiVar(u,k)[3],fiVar(u,ksquared)[3])\n",
    "    return fipair\n",
    "\n",
    "qArray=[]\n",
    "kArray=[]\n",
    "ksqArray=[]\n",
    "for i in np.arange(0,9,1.0):\n",
    "    print(i,printer(i,0.5))\n",
    "    qArray.append(i)\n",
    "    kArray.append(printer(i,0.5)[0])\n",
    "    ksqArray.append(printer(i,0.5)[1])"
   ]
  },
  {
   "cell_type": "code",
   "execution_count": 7,
   "metadata": {},
   "outputs": [
    {
     "data": {
      "image/png": "[encoded data removed]",
      "text/plain": [
       "<Figure size 432x288 with 1 Axes>"
      ]
     },
     "metadata": {
      "needs_background": "light"
     },
     "output_type": "display_data"
    }
   ],
   "source": [
    "# plt.rcParams[\"font.family\"] = \"Times New Roman\"\n",
    "plt.rcParams.update({'font.size': 18})\n",
    "## for Palatino and other serif fonts use:\n",
    "plt.rc('font',**{'family':'serif','serif':['Times New Roman']})\n",
    "rc('text', usetex=True)\n",
    "plt.rc('xtick', labelsize=18) \n",
    "plt.rc('ytick', labelsize=18)\n",
    "fig, ax=plt.subplots()\n",
    "ax.plot(qArray,kArray,'r-',label='$\\\\varphi=JAmp(q,k)$')\n",
    "ax.plot(qArray,ksqArray,'b-',label='$\\\\varphi=JAmp(q,k^2)$')\n",
    "plt.xlabel('$q$')\n",
    "plt.ylabel('$\\\\varphi$')\n",
    "ax.text(0.2, 0.5, '$k=0.5$', horizontalalignment='center',verticalalignment='center', transform=ax.transAxes,fontsize=14)\n",
    "plt.legend(loc='best')\n",
    "plt.savefig('jacobiAmpl.pdf',bbox_inches='tight')\n",
    "plt.show()"
   ]
  },
  {
   "cell_type": "code",
   "execution_count": 3,
   "metadata": {},
   "outputs": [],
   "source": [
    "xData=[]\n",
    "yData=[]\n",
    "for index in range(10):\n",
    "    xData.append(index);\n",
    "    value=2*index*index\n",
    "    yData.append(value);"
   ]
  },
  {
   "cell_type": "code",
   "execution_count": 4,
   "metadata": {},
   "outputs": [
    {
     "data": {
      "image/png": "[encoded data removed]",
      "text/plain": [
       "<Figure size 432x288 with 1 Axes>"
      ]
     },
     "metadata": {
      "needs_background": "light"
     },
     "output_type": "display_data"
    }
   ],
   "source": [
    "# plt.rcParams[\"font.family\"] = \"Times New Roman\"\n",
    "plt.rcParams.update({'font.size': 18})\n",
    "## for Palatino and other serif fonts use:\n",
    "plt.rc('font',**{'family':'serif','serif':['Times New Roman']})\n",
    "rc('text', usetex=True)\n",
    "plt.rc('xtick', labelsize=18) \n",
    "plt.rc('ytick', labelsize=18)\n",
    "fig, ax=plt.subplots()\n",
    "ax.plot(xData,yData,'r-',label='$\\\\varphi=JAmp(q,k)$')\n",
    "plt.xlabel('$q$')\n",
    "plt.ylabel('$\\\\varphi$')\n",
    "ax.text(0.2, 0.5, '$k=0.80524$', horizontalalignment='center',verticalalignment='center', transform=ax.transAxes,fontsize=14)\n",
    "plt.legend(loc='best')\n",
    "plt.savefig('jacobiAmpl_customk.pdf',bbox_inches='tight')\n",
    "plt.show()"
   ]
  },
  {
   "cell_type": "code",
   "execution_count": 8,
   "metadata": {},
   "outputs": [
    {
     "name": "stdout",
     "output_type": "stream",
     "text": [
      "(0.0, 0.0)\n",
      "(0.8915386362062283, 0.9124321203112075)\n",
      "(1.45080089258313, 1.5674613496127106)\n",
      "(1.9163501357976978, 2.220508522901667)\n",
      "(2.622629327497944, 3.130344007288082)\n",
      "(3.59047820203022, 4.045333057637743)\n",
      "(4.324712038259995, 4.7023837752157505)\n",
      "(4.797606381658718, 5.353488687660488)\n",
      "(5.337582832500058, 6.260688937376585)\n"
     ]
    }
   ],
   "source": [
    "qArray=[]\n",
    "kArray=[]\n",
    "ksqArray=[]\n",
    "for i in np.arange(0,9,1.0):\n",
    "    myk=kFct(45/2,13/2,210,1/(2*20),1/(2*100),1/(2*40))\n",
    "    result=printer(i,myk)\n",
    "    qArray.append(i)\n",
    "    kArray.append(result[0])\n",
    "    ksqArray.append(result[1])\n",
    "    print(result)"
   ]
  },
  {
   "cell_type": "code",
   "execution_count": 9,
   "metadata": {},
   "outputs": [
    {
     "data": {
      "image/png": "[encoded data removed]",
      "text/plain": [
       "<Figure size 432x288 with 1 Axes>"
      ]
     },
     "metadata": {
      "needs_background": "light"
     },
     "output_type": "display_data"
    }
   ],
   "source": [
    "# plt.rcParams[\"font.family\"] = \"Times New Roman\"\n",
    "plt.rcParams.update({'font.size': 18})\n",
    "## for Palatino and other serif fonts use:\n",
    "plt.rc('font',**{'family':'serif','serif':['Times New Roman']})\n",
    "rc('text', usetex=True)\n",
    "plt.rc('xtick', labelsize=18) \n",
    "plt.rc('ytick', labelsize=18)\n",
    "fig, ax=plt.subplots()\n",
    "ax.plot(qArray,kArray,'r-',label='$\\\\varphi=JAmp(q,k)$')\n",
    "ax.plot(qArray,ksqArray,'b-',label='$\\\\varphi=JAmp(q,k^2)$')\n",
    "plt.xlabel('$q$')\n",
    "plt.ylabel('$\\\\varphi$')\n",
    "ax.text(0.2, 0.5, '$k=0.80524$', horizontalalignment='center',verticalalignment='center', transform=ax.transAxes,fontsize=14)\n",
    "plt.legend(loc='best')\n",
    "plt.savefig('jacobiAmpl_customk.pdf',bbox_inches='tight')\n",
    "plt.show()"
   ]
  },
  {
   "cell_type": "markdown",
   "metadata": {},
   "source": [
    "## Generate the elliptic coordinates $s,c,d$"
   ]
  },
  {
   "cell_type": "code",
   "execution_count": 10,
   "metadata": {},
   "outputs": [],
   "source": [
    "def ellipticArg(q,spin,theta,paramSet):\n",
    "    #paramSet is a tuple of the form (SPIN,j,A1,A2,A3)\n",
    "    #spin=paramSet[0]\n",
    "    oddSpin=paramSet[1]\n",
    "    a1=paramSet[2]\n",
    "    a2=paramSet[3]\n",
    "    a3=paramSet[4]\n",
    "    currentK=kFct(spin,oddSpin,theta,a1,a2,a3)\n",
    "    #work with linear k\n",
    "    fi=fiVar(q,currentK)\n",
    "    #work with quadratic k\n",
    "    fi2=fiVar_sq(q,currentK)\n",
    "    resultTuple=(fi,fi2)\n",
    "    return resultTuple[1]\n",
    "    \n",
    "def sVar(q,spin,theta,paramSet):\n",
    "    fi=ellipticArg(q,spin,theta,paramSet)\n",
    "    return fi[0]\n",
    "\n",
    "def cVar(q,spin,theta,paramSet):\n",
    "    fi=ellipticArg(q,spin,theta,paramSet)\n",
    "    return fi[1]\n",
    "\n",
    "def dVar(q,spin,theta,paramSet):\n",
    "    fi=ellipticArg(q,spin,theta,paramSet)\n",
    "    return fi[2]"
   ]
  },
  {
   "cell_type": "markdown",
   "metadata": {},
   "source": [
    "## Defining the parameter set  - according to DRAFT\n",
    "\n",
    "> `pSet`=$\\left\\{I,j,A_1,A_2,A_3\\right\\}$"
   ]
  },
  {
   "cell_type": "code",
   "execution_count": 11,
   "metadata": {},
   "outputs": [
    {
     "name": "stdout",
     "output_type": "stream",
     "text": [
      "[22.5, 6.5, 0.025, 0.005, 0.0125]\n"
     ]
    }
   ],
   "source": [
    "pSet=[45/2,13/2,1/(2*20),1/(2*100),1/(2*40)]\n",
    "print(pSet)"
   ]
  },
  {
   "cell_type": "markdown",
   "metadata": {},
   "source": [
    "# Defining the triaxial rotor potential $V_\\theta(q)$"
   ]
  },
  {
   "cell_type": "code",
   "execution_count": 12,
   "metadata": {},
   "outputs": [],
   "source": [
    "def rotorPotential(q,spin,theta,paramSet):\n",
    "    #paramSet is a tuple of the form (SPIN,j,A1,A2,A3)\n",
    "    #spin=paramSet[0]\n",
    "    oddSpin=paramSet[1]\n",
    "    a1=paramSet[2]\n",
    "    a2=paramSet[3]\n",
    "    a3=paramSet[4]\n",
    "    v0=v0Fct(spin,oddSpin,theta,a1,a2,a3)\n",
    "    k=kFct(spin,oddSpin,theta,a1,a2,a3)\n",
    "    s=sVar(q,spin,theta,paramSet)\n",
    "    c=cVar(q,spin,theta,paramSet)\n",
    "    d=dVar(q,spin,theta,paramSet)\n",
    "    #define the potential sub-terms\n",
    "    t1=spin*(spin+1.0)*np.power(k,2)+np.power(v0,2)\n",
    "    t2=(2.0*spin+1.0)*v0*c*d\n",
    "    t3=t1*np.power(s,2)\n",
    "    vRotor=t3+t2\n",
    "    return vRotor"
   ]
  },
  {
   "cell_type": "markdown",
   "metadata": {},
   "source": [
    "## Triaxial potential for Exact System of Equations"
   ]
  },
  {
   "cell_type": "markdown",
   "metadata": {},
   "source": [
    "### Parameter set"
   ]
  },
  {
   "cell_type": "code",
   "execution_count": 13,
   "metadata": {},
   "outputs": [
    {
     "data": {
      "text/plain": [
       "[9.5, 5.5, 0.0312871, 0.0173468, 0.117706]"
      ]
     },
     "execution_count": 13,
     "metadata": {},
     "output_type": "execute_result"
    }
   ],
   "source": [
    "pSetEquations=[19/2,5.5,0.0312871, 0.0173468, 0.117706]\n",
    "pSetEquations"
   ]
  },
  {
   "cell_type": "code",
   "execution_count": 18,
   "metadata": {
    "scrolled": true
   },
   "outputs": [
    {
     "name": "stderr",
     "output_type": "stream",
     "text": [
      "/usr/local/lib/python3.7/site-packages/ipykernel_launcher.py:17: RuntimeWarning: invalid value encountered in sqrt\n"
     ]
    }
   ],
   "source": [
    "qTable=[]\n",
    "vTable=[]\n",
    "for i in np.arange(-8,8.1,0.1):\n",
    "    qTable.append(i)\n",
    "    vTable.append(rotorPotential(i,pSetEquations[0],-140,pSetEquations))"
   ]
  },
  {
   "cell_type": "code",
   "execution_count": 19,
   "metadata": {},
   "outputs": [
    {
     "data": {
      "text/plain": [
       "[nan,\n",
       " nan,\n",
       " nan,\n",
       " nan,\n",
       " nan,\n",
       " nan,\n",
       " nan,\n",
       " nan,\n",
       " nan,\n",
       " nan,\n",
       " nan,\n",
       " nan,\n",
       " nan,\n",
       " nan,\n",
       " nan,\n",
       " nan,\n",
       " nan,\n",
       " nan,\n",
       " nan,\n",
       " nan,\n",
       " nan,\n",
       " nan,\n",
       " nan,\n",
       " nan,\n",
       " nan,\n",
       " nan,\n",
       " nan,\n",
       " nan,\n",
       " nan,\n",
       " nan,\n",
       " nan,\n",
       " nan,\n",
       " nan,\n",
       " nan,\n",
       " nan,\n",
       " nan,\n",
       " nan,\n",
       " nan,\n",
       " nan,\n",
       " nan,\n",
       " nan,\n",
       " nan,\n",
       " nan,\n",
       " nan,\n",
       " nan,\n",
       " nan,\n",
       " nan,\n",
       " nan,\n",
       " nan,\n",
       " nan,\n",
       " nan,\n",
       " nan,\n",
       " nan,\n",
       " nan,\n",
       " nan,\n",
       " nan,\n",
       " nan,\n",
       " nan,\n",
       " nan,\n",
       " nan,\n",
       " nan,\n",
       " nan,\n",
       " nan,\n",
       " nan,\n",
       " nan,\n",
       " nan,\n",
       " nan,\n",
       " nan,\n",
       " nan,\n",
       " nan,\n",
       " nan,\n",
       " nan,\n",
       " nan,\n",
       " nan,\n",
       " nan,\n",
       " nan,\n",
       " nan,\n",
       " nan,\n",
       " nan,\n",
       " nan,\n",
       " nan,\n",
       " nan,\n",
       " nan,\n",
       " nan,\n",
       " nan,\n",
       " nan,\n",
       " nan,\n",
       " nan,\n",
       " nan,\n",
       " nan,\n",
       " nan,\n",
       " nan,\n",
       " nan,\n",
       " nan,\n",
       " nan,\n",
       " nan,\n",
       " nan,\n",
       " nan,\n",
       " nan,\n",
       " nan,\n",
       " nan,\n",
       " nan,\n",
       " nan,\n",
       " nan,\n",
       " nan,\n",
       " nan,\n",
       " nan,\n",
       " nan,\n",
       " nan,\n",
       " nan,\n",
       " nan,\n",
       " nan,\n",
       " nan,\n",
       " nan,\n",
       " nan,\n",
       " nan,\n",
       " nan,\n",
       " nan,\n",
       " nan,\n",
       " nan,\n",
       " nan,\n",
       " nan,\n",
       " nan,\n",
       " nan,\n",
       " nan,\n",
       " nan,\n",
       " nan,\n",
       " nan,\n",
       " nan,\n",
       " nan,\n",
       " nan,\n",
       " nan,\n",
       " nan,\n",
       " nan,\n",
       " nan,\n",
       " nan,\n",
       " nan,\n",
       " nan,\n",
       " nan,\n",
       " nan,\n",
       " nan,\n",
       " nan,\n",
       " nan,\n",
       " nan,\n",
       " nan,\n",
       " nan,\n",
       " nan,\n",
       " nan,\n",
       " nan,\n",
       " nan,\n",
       " nan,\n",
       " nan,\n",
       " nan,\n",
       " nan,\n",
       " nan,\n",
       " nan,\n",
       " nan,\n",
       " nan,\n",
       " nan,\n",
       " nan,\n",
       " nan]"
      ]
     },
     "execution_count": 19,
     "metadata": {},
     "output_type": "execute_result"
    }
   ],
   "source": [
    "vTable"
   ]
  },
  {
   "cell_type": "markdown",
   "metadata": {},
   "source": [
    "## Rotor potential - graphical representation "
   ]
  },
  {
   "cell_type": "code",
   "execution_count": 20,
   "metadata": {},
   "outputs": [],
   "source": [
    "qTable=[]\n",
    "vTable=[]\n",
    "for i in np.arange(-8,8,0.1):\n",
    "    qTable.append(i)\n",
    "    vTable.append(rotorPotential(i,45/2,30,pSet))"
   ]
  },
  {
   "cell_type": "code",
   "execution_count": 21,
   "metadata": {},
   "outputs": [
    {
     "data": {
      "text/plain": [
       "[<matplotlib.lines.Line2D at 0x137363e50>]"
      ]
     },
     "execution_count": 21,
     "metadata": {},
     "output_type": "execute_result"
    },
    {
     "data": {
      "image/png": "[encoded data removed]",
      "text/plain": [
       "<Figure size 432x288 with 1 Axes>"
      ]
     },
     "metadata": {
      "needs_background": "light"
     },
     "output_type": "display_data"
    }
   ],
   "source": [
    "plt.plot(qTable,vTable,'r-')"
   ]
  },
  {
   "cell_type": "code",
   "execution_count": 22,
   "metadata": {},
   "outputs": [
    {
     "data": {
      "text/plain": [
       "[316.35558997515903,\n",
       " 313.275161937951,\n",
       " 312.41318988440344,\n",
       " 313.82964032179945,\n",
       " 317.4261933597683,\n",
       " 322.95827499453696,\n",
       " 330.06387784221124,\n",
       " 338.3031719911714,\n",
       " 347.2013392885044,\n",
       " 356.2875484017958,\n",
       " 365.1250224683274,\n",
       " 373.32983840719976,\n",
       " 380.5785723356902,\n",
       " 386.6066285480633,\n",
       " 391.1999133038853,\n",
       " 394.1825861434069,\n",
       " 395.403220891382,\n",
       " 394.7211155265528,\n",
       " 391.9939112722541,\n",
       " 387.06723373152477,\n",
       " 379.76679644138926,\n",
       " 369.8933067485756,\n",
       " 357.220558362141,\n",
       " 341.4972473033334,\n",
       " 322.4532659222323,\n",
       " 299.8114627283288,\n",
       " 273.3060376424397,\n",
       " 242.7087809432646,\n",
       " 207.86413448833844,\n",
       " 168.7333985528652,\n",
       " 125.4471572820243,\n",
       " 78.36301845641157,\n",
       " 28.12305515970519,\n",
       " -24.297850769140496,\n",
       " -77.56459272783431,\n",
       " -129.98896424412547,\n",
       " -179.58406774320943,\n",
       " -224.17390931004883,\n",
       " -261.55675965104626,\n",
       " -289.70813319302266,\n",
       " -306.9961428757613,\n",
       " -312.3729914972471,\n",
       " -305.505722940385,\n",
       " -286.81899212875885,\n",
       " -257.4406179575747,\n",
       " -219.06164958254675,\n",
       " -173.73989221172468,\n",
       " -123.68423705053937,\n",
       " -71.05531064284853,\n",
       " -17.808207812012824,\n",
       " 34.4101996241001,\n",
       " 84.30932202918521,\n",
       " 130.95701588765945,\n",
       " 173.74889304439674,\n",
       " 212.3582831907695,\n",
       " 246.67834917711275,\n",
       " 276.7647567050088,\n",
       " 302.7841454899074,\n",
       " 324.97102325677554,\n",
       " 343.59381944005577,\n",
       " 358.92966644251214,\n",
       " 371.2468823212832,\n",
       " 380.79393979654424,\n",
       " 387.79376867865665,\n",
       " 392.4424312702023,\n",
       " 394.9114446785115,\n",
       " 395.3532363862076,\n",
       " 393.9093607532572,\n",
       " 390.721132710612,\n",
       " 385.94221453379475,\n",
       " 379.75239718530185,\n",
       " 372.37135053682937,\n",
       " 364.07052821220014,\n",
       " 355.18083045425556,\n",
       " 346.0932696481501,\n",
       " 337.25003280109087,\n",
       " 329.1242656284865,\n",
       " 322.1887332951779,\n",
       " 316.8760512149636,\n",
       " 313.5358373930104,\n",
       " 312.39602702197374,\n",
       " 313.5358373930092,\n",
       " 316.8760512149611,\n",
       " 322.1887332951744,\n",
       " 329.12426562848214,\n",
       " 337.25003280108604,\n",
       " 346.093269648145,\n",
       " 355.18083045425044,\n",
       " 364.0705282121953,\n",
       " 372.3713505368248,\n",
       " 379.7523971852979,\n",
       " 385.9422145337917,\n",
       " 390.7211327106097,\n",
       " 393.9093607532558,\n",
       " 395.35323638620724,\n",
       " 394.91144467851234,\n",
       " 392.44243127020434,\n",
       " 387.79376867865994,\n",
       " 380.7939397965489,\n",
       " 371.24688232128943,\n",
       " 358.92966644252,\n",
       " 343.59381944006554,\n",
       " 324.97102325678725,\n",
       " 302.7841454899211,\n",
       " 276.7647567050248,\n",
       " 246.678349177131,\n",
       " 212.3582831907903,\n",
       " 173.74889304441973,\n",
       " 130.95701588768463,\n",
       " 84.30932202921264,\n",
       " 34.41019962412926,\n",
       " -17.808207811982754,\n",
       " -71.0553106428182,\n",
       " -123.68423705050954,\n",
       " -173.73989221169737,\n",
       " -219.06164958252273,\n",
       " -257.4406179575551,\n",
       " -286.8189921287451,\n",
       " -305.5057229403777,\n",
       " -312.37299149724663,\n",
       " -306.99614287576776,\n",
       " -289.7081331930356,\n",
       " -261.556759651065,\n",
       " -224.17390931007233,\n",
       " -179.5840677432366,\n",
       " -129.98896424415466,\n",
       " -77.56459272786444,\n",
       " -24.297850769170708,\n",
       " 28.123055159676113,\n",
       " 78.36301845638346,\n",
       " 125.44715728199893,\n",
       " 168.73339855284226,\n",
       " 207.86413448831723,\n",
       " 242.70878094324559,\n",
       " 273.3060376424239,\n",
       " 299.81146272831523,\n",
       " 322.4532659222205,\n",
       " 341.49724730332355,\n",
       " 357.220558362133,\n",
       " 369.8933067485692,\n",
       " 379.7667964413842,\n",
       " 387.0672337315213,\n",
       " 391.993911272252,\n",
       " 394.72111552655184,\n",
       " 395.40322089138226,\n",
       " 394.18258614340806,\n",
       " 391.19991330388746,\n",
       " 386.6066285480662,\n",
       " 380.57857233569393,\n",
       " 373.3298384072041,\n",
       " 365.1250224683324,\n",
       " 356.2875484018009,\n",
       " 347.2013392885095,\n",
       " 338.3031719911764,\n",
       " 330.06387784221556,\n",
       " 322.9582749945405,\n",
       " 317.426193359771,\n",
       " 313.8296403218008,\n",
       " 312.4131898844036,\n",
       " 313.27516193794986]"
      ]
     },
     "execution_count": 22,
     "metadata": {},
     "output_type": "execute_result"
    }
   ],
   "source": [
    "vTable"
   ]
  },
  {
   "cell_type": "markdown",
   "metadata": {},
   "source": [
    "# The chiral potential definition\n",
    "\n",
    "$V_\\text{chiral}=\\left\\{V_\\text{s},V_\\text{a}\\right\\}$\n",
    "\n",
    "$V_s\\to$ **symmetric potential** $V_\\text{symmetric}=\\frac{V_{\\theta_1}+V_{\\theta_2}}{2}$\n",
    "\n",
    "$V_a\\to$ **anti-symmetric potential** $V_\\text{antisymmetric}=\\frac{V_{\\theta_1}-V_{\\theta_2}}{2}$\n",
    "\n",
    "## The potentials $V_\\theta$ depend on the set of angles {$\\theta_1$,$\\theta_2$}\n",
    "> in this case $\\theta_1=30^o$ and $\\theta_2=210^o$"
   ]
  },
  {
   "cell_type": "code",
   "execution_count": null,
   "metadata": {},
   "outputs": [],
   "source": [
    "def chiralPotential(q,spin,theta1,theta2,paramSet):\n",
    "    potential1=rotorPotential(q,spin,theta1,paramSet)\n",
    "    potential2=rotorPotential(q,spin,theta2,paramSet)\n",
    "    #the symmetric potential\n",
    "    symmetricTerm=0.5*(potential1+potential2)\n",
    "    antiTerm=0.5*(potential1-potential2)\n",
    "    chiralTuple=(symmetricTerm, antiTerm)\n",
    "    return chiralTuple\n",
    "\n",
    "def vSym(q,spin,theta1,theta2,paramSet):\n",
    "    return chiralPotential(q,spin,theta1,theta2,paramSet)[0]\n",
    "\n",
    "def vAsym(q,spin,theta1,theta2,paramSet):\n",
    "    return chiralPotential(q,spin,theta1,theta2,paramSet)[1]"
   ]
  },
  {
   "cell_type": "code",
   "execution_count": null,
   "metadata": {},
   "outputs": [],
   "source": [
    "vaTable=[]\n",
    "vsTable=[]\n",
    "for i in qTable:\n",
    "    myspin=45/2\n",
    "    theta1=30\n",
    "    theta2=210\n",
    "    vaTable.append(vAsym(i,myspin,theta1,theta2,pSet))\n",
    "    vsTable.append(vSym(i,myspin,theta1,theta2,pSet))"
   ]
  },
  {
   "cell_type": "markdown",
   "metadata": {},
   "source": [
    "## Calculus for the anti-symmetric potential"
   ]
  },
  {
   "cell_type": "code",
   "execution_count": null,
   "metadata": {},
   "outputs": [],
   "source": [
    "fig, ax=plt.subplots()\n",
    "ax.plot(qTable,vaTable,'r-')\n",
    "#plt.title('The antisymmetric potential $V_a(q)$')\n",
    "plt.xlabel('$q\\ \\  [rad]$')\n",
    "plt.ylabel('$V_a\\ \\  [\\hbar^2]$')\n",
    "ax.text(0.25, 0.8, '$I=45/2$', horizontalalignment='center',verticalalignment='center', transform=ax.transAxes,fontsize=14)\n",
    "ax.set_xticks([-8,-6,-4,-2,0,2,4,6,8])\n",
    "ax.set_yticks([-300,-200,-100,0,100,200,300])\n",
    "plt.savefig('antiSymmetricPotential.pdf',bbox_inches='tight')\n",
    "plt.show()"
   ]
  },
  {
   "cell_type": "markdown",
   "metadata": {},
   "source": [
    "## Calculus for the symmetric potential"
   ]
  },
  {
   "cell_type": "code",
   "execution_count": null,
   "metadata": {},
   "outputs": [],
   "source": [
    "fig, ax=plt.subplots()\n",
    "ax.plot(qTable,vsTable,'b-')\n",
    "#plt.title('The symmetric potential $V_s(q)$')\n",
    "plt.xlabel('$q\\ \\  [rad]$')\n",
    "plt.ylabel('$V_s\\ \\  [\\hbar^2]$')\n",
    "ax.text(0.16, 0.2, '$I=45/2$', horizontalalignment='center',verticalalignment='center', transform=ax.transAxes,fontsize=14)\n",
    "ax.set_xticks([-8,-6,-4,-2,0,2,4,6,8])\n",
    "ax.set_yticks([0,100,200,300,400])\n",
    "plt.savefig('symetricPotential.pdf',bbox_inches='tight')\n",
    "# plt.show()\n",
    "tikzplotlib.save(\"test.tex\")"
   ]
  },
  {
   "cell_type": "code",
   "execution_count": null,
   "metadata": {},
   "outputs": [],
   "source": []
  }
 ],
 "metadata": {
  "kernelspec": {
   "display_name": "Python 3.7.6 64-bit",
   "language": "python",
   "name": "python37664bitca4067d99ba64e6e9495a04a073a50f6"
  },
  "language_info": {
   "codemirror_mode": {
    "name": "ipython",
    "version": 3
   },
   "file_extension": ".py",
   "mimetype": "text/x-python",
   "name": "python",
   "nbconvert_exporter": "python",
   "pygments_lexer": "ipython3",
   "version": "3.7.7"
  }
 },
 "nbformat": 4,
 "nbformat_minor": 4
}
